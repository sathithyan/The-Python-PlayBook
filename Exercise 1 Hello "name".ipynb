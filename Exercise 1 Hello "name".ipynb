{
 "cells": [
  {
   "cell_type": "markdown",
   "id": "261cac3c",
   "metadata": {},
   "source": [
    "## Exercise 1: Hello\n"
   ]
  },
  {
   "cell_type": "code",
   "execution_count": 3,
   "id": "4903f5c2",
   "metadata": {},
   "outputs": [
    {
     "name": "stdout",
     "output_type": "stream",
     "text": [
      "what is your name:athi\n"
     ]
    }
   ],
   "source": [
    "# ask for users name\n",
    "name = input('what is your name:')"
   ]
  },
  {
   "cell_type": "code",
   "execution_count": 4,
   "id": "3a0c9ad3",
   "metadata": {},
   "outputs": [
    {
     "name": "stdout",
     "output_type": "stream",
     "text": [
      "Hello athi\n"
     ]
    }
   ],
   "source": [
    "# output: 'Hello' followed by name\n",
    "print('Hello', name)"
   ]
  }
 ],
 "metadata": {
  "kernelspec": {
   "display_name": "Python 3 (ipykernel)",
   "language": "python",
   "name": "python3"
  },
  "language_info": {
   "codemirror_mode": {
    "name": "ipython",
    "version": 3
   },
   "file_extension": ".py",
   "mimetype": "text/x-python",
   "name": "python",
   "nbconvert_exporter": "python",
   "pygments_lexer": "ipython3",
   "version": "3.9.13"
  }
 },
 "nbformat": 4,
 "nbformat_minor": 5
}
