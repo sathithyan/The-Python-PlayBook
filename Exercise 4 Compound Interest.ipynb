{
 "cells": [
  {
   "cell_type": "markdown",
   "id": "82419b42",
   "metadata": {},
   "source": [
    "## Exercise 4: Compound Interest"
   ]
  },
  {
   "cell_type": "code",
   "execution_count": 1,
   "id": "23039d1a",
   "metadata": {},
   "outputs": [
    {
     "name": "stdout",
     "output_type": "stream",
     "text": [
      "How much money would you like to deposit?1000\n"
     ]
    }
   ],
   "source": [
    "# read the amount of money deposited into the account from the user\n",
    "deposit = eval(input('How much money would you like to deposit?'))"
   ]
  },
  {
   "cell_type": "code",
   "execution_count": 2,
   "id": "8e55fcee",
   "metadata": {},
   "outputs": [
    {
     "data": {
      "text/plain": [
       "2593.7424601000025"
      ]
     },
     "execution_count": 2,
     "metadata": {},
     "output_type": "execute_result"
    }
   ],
   "source": [
    "# compute the amount in the savings account after 10 year\n",
    "final_amount = deposit*(1+0.1)**10\n",
    "final_amount"
   ]
  },
  {
   "cell_type": "code",
   "execution_count": 3,
   "id": "7cf9c8fc",
   "metadata": {},
   "outputs": [
    {
     "name": "stdout",
     "output_type": "stream",
     "text": [
      "After 10 years you have 2593.74\n"
     ]
    }
   ],
   "source": [
    "# display the amount in the savings account after X amount of years\n",
    "print('After 10 years you have', \"%.2f\" % final_amount)"
   ]
  },
  {
   "cell_type": "code",
   "execution_count": null,
   "id": "8015e3bb",
   "metadata": {},
   "outputs": [],
   "source": []
  }
 ],
 "metadata": {
  "kernelspec": {
   "display_name": "Python 3 (ipykernel)",
   "language": "python",
   "name": "python3"
  },
  "language_info": {
   "codemirror_mode": {
    "name": "ipython",
    "version": 3
   },
   "file_extension": ".py",
   "mimetype": "text/x-python",
   "name": "python",
   "nbconvert_exporter": "python",
   "pygments_lexer": "ipython3",
   "version": "3.9.13"
  }
 },
 "nbformat": 4,
 "nbformat_minor": 5
}
