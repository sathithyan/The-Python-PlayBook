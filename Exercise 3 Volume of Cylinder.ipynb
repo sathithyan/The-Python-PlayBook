{
 "cells": [
  {
   "cell_type": "markdown",
   "id": "71728ee9",
   "metadata": {},
   "source": [
    "## Exercise 3: Volume of Cylinder"
   ]
  },
  {
   "cell_type": "code",
   "execution_count": 1,
   "id": "a50762bd",
   "metadata": {},
   "outputs": [],
   "source": [
    "import math"
   ]
  },
  {
   "cell_type": "code",
   "execution_count": 2,
   "id": "912222c5",
   "metadata": {},
   "outputs": [
    {
     "name": "stdout",
     "output_type": "stream",
     "text": [
      "What is the length of the cylinder?10\n",
      "What is the diameter of the cylinder?3\n"
     ]
    }
   ],
   "source": [
    "# ask the user to enter length and diameter of cylinder face\n",
    "l = eval(input('What is the length of the cylinder?'))\n",
    "d = eval(input('What is the diameter of the cylinder?'))"
   ]
  },
  {
   "cell_type": "code",
   "execution_count": 3,
   "id": "26e44a5b",
   "metadata": {},
   "outputs": [],
   "source": [
    "# calculate volume of the cylinder\n",
    "vol = math.pi * ((d/2)**2)*l"
   ]
  },
  {
   "cell_type": "code",
   "execution_count": 4,
   "id": "5c3c2d22",
   "metadata": {},
   "outputs": [
    {
     "name": "stdout",
     "output_type": "stream",
     "text": [
      "The volume of the cylinder is 70.68583470577035\n"
     ]
    }
   ],
   "source": [
    "# output the volume of the cylinder\n",
    "print('The volume of the cylinder is', vol)"
   ]
  },
  {
   "cell_type": "code",
   "execution_count": null,
   "id": "af4650d0",
   "metadata": {},
   "outputs": [],
   "source": []
  }
 ],
 "metadata": {
  "kernelspec": {
   "display_name": "Python 3 (ipykernel)",
   "language": "python",
   "name": "python3"
  },
  "language_info": {
   "codemirror_mode": {
    "name": "ipython",
    "version": 3
   },
   "file_extension": ".py",
   "mimetype": "text/x-python",
   "name": "python",
   "nbconvert_exporter": "python",
   "pygments_lexer": "ipython3",
   "version": "3.9.13"
  }
 },
 "nbformat": 4,
 "nbformat_minor": 5
}
